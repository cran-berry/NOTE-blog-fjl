{
 "cells": [
  {
   "cell_type": "code",
   "execution_count": null,
   "metadata": {},
   "outputs": [],
   "source": [
    "import matplotlib.pyplot as plt\n",
    "import numpy as np\n",
    "import pandas as pd\n",
    "import os\n",
    "import tarfile\n",
    "from six.moves import urllib"
   ]
  },
  {
   "cell_type": "markdown",
   "metadata": {},
   "source": [
    "# Download and Read data"
   ]
  },
  {
   "cell_type": "code",
   "execution_count": null,
   "metadata": {},
   "outputs": [],
   "source": [
    "HOUSING_PATH = r\"E:\\jupyter_code\\datasets\\housing\"\n",
    "HOUSING_URL = r\"https://raw.githubusercontent.com/ageron/handson-ml/master/datasets/housing/housing.tgz\"\n",
    "\n",
    "# def fetch(housing_url=HOUSING_URL, housing_path=HOUSING_PATH):\n",
    "#     if not os.path.isdir(HOUSING_PATH):\n",
    "#         os.makedirs(HOUSING_PATH)\n",
    "#     HOUSING_FILE = os.path.join(HOUSING_PATH, \"housing.tgz\")\n",
    "#     urllib.request.urlretrieve(HOUSING_URL, HOUSING_FILE)\n",
    "#     with tarfile.open(HOUSING_FILE, \"r\") as tar:\n",
    "#         tar.extractall(HOUSING_PATH)\n",
    "\n",
    "# fetch()"
   ]
  },
  {
   "cell_type": "code",
   "execution_count": null,
   "metadata": {},
   "outputs": [],
   "source": [
    "from pandas.plotting import scatter_matrix\n",
    "housing = pd.read_csv(HOUSING_FILE)\n",
    "# 每个属性数值，两个属性关系\n",
    "# housing.info()\n",
    "# housing.describe()\n",
    "# housing[\"ocean_proximity\"].value_counts()\n",
    "housing.hist(bins=50, figsize=(20, 15))\n",
    "housing.plot(kind=\"scatter\", x=\"longitude\", y=\"latitude\", alpha=0.4, c=\"median_house_value\", cmap=plt.cm.jet, s=housing[\"population\"]/100)\n",
    "corr = housing.corr()\n",
    "corr[\"median_house_value\"].sort_values(ascending=False)\n",
    "scatter_matrix(housing[[\"median_house_value\", \"median_income\", \"total_rooms\"]], figsize=(12, 8))\n",
    "plt.show()"
   ]
  },
  {
   "cell_type": "markdown",
   "metadata": {},
   "source": [
    "# Split Data: Test And Train; Train: Num And Cat"
   ]
  },
  {
   "cell_type": "code",
   "execution_count": null,
   "metadata": {},
   "outputs": [],
   "source": [
    "# 抽样训练集\n",
    "# from sklearn.model_selection import train_test_split\n",
    "# train_set, test_set = train_test_split(housing, test_size=0.2)\n",
    "# 分层抽样训练集\n",
    "from sklearn.model_selection import StratifiedShuffleSplit\n",
    "income_cat = np.ceil(housing[\"median_income\"] / 1.5)\n",
    "income_cat.where(income_cat < 5, 5.0, inplace=True)\n",
    "# income_cat.hist(bins=20)\n",
    "split = StratifiedShuffleSplit(n_splits=1, test_size=0.2)\n",
    "for train, test in split.split(housing, income_cat):\n",
    "    strat_train_set = housing.loc[train]\n",
    "    strat_test_set = housing.loc[test]\n",
    "\n",
    "# 分开标签\n",
    "train_housing = strat_train_set.drop(\"median_house_value\", axis=1)\n",
    "train_housing_labels = strat_train_set[\"median_house_value\"].copy()\n",
    "# 分开数值属性\n",
    "num_housing = train_housing.drop(\"ocean_proximity\", axis=1)\n",
    "cat_housing = train_housing[\"ocean_proximity\"].copy()"
   ]
  },
  {
   "cell_type": "markdown",
   "metadata": {},
   "source": [
    "# Preprocessing: Num And Cat"
   ]
  },
  {
   "cell_type": "code",
   "execution_count": null,
   "metadata": {},
   "outputs": [],
   "source": [
    "# 填充数值属性的缺失值\n",
    "# median = housing[\"total_bedrooms\"].median()\n",
    "# housing[\"total_bedrooms\"].fillna(median, inplace=True)\n",
    "\n",
    "# from sklearn.preprocessing import Imputer\n",
    "# imputer = Imputer(strategy=\"median\")\n",
    "# X = imputer.fit_transform(housing_num)\n",
    "\n",
    "# imputer.fit(housing_num)\n",
    "# X = imputer.transform(housing_num)"
   ]
  },
  {
   "cell_type": "code",
   "execution_count": null,
   "metadata": {},
   "outputs": [],
   "source": [
    "# 二进制处理类别属性\n",
    "# from sklearn.preprocessing import LabelEncoder\n",
    "# encoder_label = LabelEncoder()\n",
    "# cat_housing_encoded  = encoder_label.fit_transform(cat_housing)\n",
    "\n",
    "# from sklearn.preprocessing import OneHotEncoder\n",
    "# encoder_one = OneHotEncoder(categories=\"auto\")\n",
    "# X = encoder_one.fit_transform(cat_housing_encoded.reshape(-1, 1)).toarray()\n",
    "\n",
    "# from sklearn.preprocessing import LabelBinarizer\n",
    "# encoder = LabelBinarizer()\n",
    "# X = encoder.fit_transform(cat_housing)"
   ]
  },
  {
   "cell_type": "code",
   "execution_count": null,
   "metadata": {},
   "outputs": [],
   "source": [
    "from sklearn.base import BaseEstimator, TransformerMixin\n",
    "from sklearn.preprocessing import StandardScaler\n",
    "from sklearn.impute import SimpleImputer\n",
    "from sklearn.preprocessing import LabelBinarizer, LabelEncoder, CategoricalEncoder, OneHotEncoder, OrdinalEncoder\n",
    "rooms_ix, bedrooms_ix, population_ix, household_ix = 3, 4, 5, 6\n",
    "class CombinedAttributesAdder(BaseEstimator, TransformerMixin):\n",
    "    def __init__(self, add_bedrooms_per_room = True):\n",
    "        self.add_bedrooms_per_room = add_bedrooms_per_room\n",
    "    def fit(self, X, y=None):\n",
    "        return self\n",
    "    def transform(self, X, y=None):\n",
    "        rooms_per_household = X[:, rooms_ix] / X[:, household_ix]\n",
    "        population_per_household = X[:, population_ix] / X[:, household_ix]\n",
    "        if self.add_bedrooms_per_room:\n",
    "            bedrooms_per_room = X[:, bedrooms_ix] / X[:, rooms_ix]\n",
    "            return np.c_[X, rooms_per_household, population_per_household,\n",
    "                         bedrooms_per_room]\n",
    "        else:\n",
    "            return np.c_[X, rooms_per_household, population_per_household]\n",
    "class DataFrameSelector(BaseEstimator, TransformerMixin):\n",
    "    def __init__(self, attrs):\n",
    "        self.attrs = attrs\n",
    "    def fit(self, X, y=None):\n",
    "        return self\n",
    "    def transform(self, X, y=None):\n",
    "        return X[self.attrs].values\n",
    "class MyLabelBinarizer(BaseEstimator, TransformerMixin):\n",
    "    def fit(self, X, y=None):\n",
    "        self.encode = None\n",
    "        return self\n",
    "    def transform(self, X, y=None):\n",
    "        if self.encode:\n",
    "            return self.encode.transform(X)\n",
    "        self.encode = LabelBinarizer()\n",
    "        return self.encode.fit_transform(X)"
   ]
  },
  {
   "cell_type": "code",
   "execution_count": null,
   "metadata": {},
   "outputs": [],
   "source": [
    "from sklearn.pipeline import Pipeline, FeatureUnion\n",
    "num_attrs = num_housing.columns.tolist()\n",
    "cat_attrs = [\"ocean_proximity\"]\n",
    "num_pipeline = Pipeline([\n",
    "    (\"selector\", DataFrameSelector(num_attrs)),\n",
    "    (\"imputer\", SimpleImputer(strategy=\"median\")),\n",
    "    (\"attribs_adder\", CombinedAttributesAdder()),\n",
    "    (\"std\", StandardScaler())\n",
    "])\n",
    "cat_pipeline = Pipeline([\n",
    "    (\"selector\", DataFrameSelector(cat_attribs)),\n",
    "#     (\"label_binarizer\", LabelBinarizer())  # LabelBinarizer 处理标签的, 只有 y, 没有 X\n",
    "#     (\"label_binarizer\", CategoricalEncoder())  # CategoricalEncoder into OneHotEncoder and OrdinalEncoder\n",
    "    (\"label_binarizer\", MyLabelBinarizer())\n",
    "])\n",
    "full_pipeline = FeatureUnion(transformer_list = [\n",
    "    (\"num_pipeline\", num_pipeline),\n",
    "    (\"cat_pipeline\", cat_pipeline)\n",
    "], n_jobs=-1)\n",
    "train_housing_prepared = full_pipeline.fit_transform(train_housing)\n",
    "\n",
    "# OneHot attr categories_\n",
    "# full_pipeline.transformer_list[1][1].named_steps[\"label\"].categories_\n",
    "# LabelBinarizer attr classes\n",
    "# full_pipeline.transformer_list[1][1].named_steps[\"label\"].encode.classes_"
   ]
  },
  {
   "cell_type": "markdown",
   "metadata": {},
   "source": [
    "# LinearRegression AND DecisionTreeRegressor"
   ]
  },
  {
   "cell_type": "code",
   "execution_count": null,
   "metadata": {},
   "outputs": [],
   "source": [
    "from sklearn.metrics import mean_squared_error\n",
    "from sklearn.linear_model import LinearRegression\n",
    "from sklearn.tree import DecisionTreeRegressor\n",
    "# 线性回归模型\n",
    "lin_reg = LinearRegression(n_jobs=-1)\n",
    "lin_reg.fit(train_housing_prepared, train_housing_labels)\n",
    "# 均方根误差\n",
    "lin_predict = lin_reg.predict(train_housing_prepared)\n",
    "lin_rmse = np.sqrt(mean_squared_error(lin_predict, train_housing_labels))\n",
    "# 决策树模型\n",
    "tree_reg = DecisionTreeRegressor()\n",
    "tree_reg.fit(train_housing_prepared, train_housing_labels)\n",
    "# 均方根误差\n",
    "tree_predict = tree_reg.predict(train_housing_prepared)\n",
    "tree_rmse = np.sqrt(mean_squared_error(tree_predict, train_housing_labels))"
   ]
  },
  {
   "cell_type": "code",
   "execution_count": null,
   "metadata": {},
   "outputs": [],
   "source": [
    "# cross_val_score 交叉验证模型\n",
    "from sklearn.model_selection import cross_val_score, cross_val_predict\n",
    "estimators = [LinearRegression(n_jobs=-1), DecisionTreeRegressor()]\n",
    "scores = [cross_val_score(estimator, train_housing_prepared, train_housing_labels,\n",
    "                         scoring=\"neg_mean_squared_error\", cv=10, n_jobs=-1) for estimator in estimators]\n",
    "\n",
    "def display(score):\n",
    "    print(\"score:\", score)\n",
    "    print(\"mean:\", score.mean())\n",
    "    print(\"std:\", score.std())\n",
    "\n",
    "for score in scores:\n",
    "    display(np.sqrt(-score))"
   ]
  },
  {
   "cell_type": "markdown",
   "metadata": {},
   "source": [
    "# GRID: Change Params"
   ]
  },
  {
   "cell_type": "code",
   "execution_count": null,
   "metadata": {},
   "outputs": [],
   "source": [
    "# GridSearchCV: search params\n",
    "from sklearn.model_selection import GridSearchCV, RandomizedSearchCV\n",
    "from sklearn.ensemble import RandomForestRegressor\n",
    "rand_forest_reg = RandomForestRegressor(n_estimators=10)\n",
    "param_grid = [\n",
    "    {\"max_depth\":[20,30,40], \"max_features\":[4,6,8]},\n",
    "    {\"bootstrap\":[False], \"max_depth\":[20,30,40], \"max_features\":[4,6,8]}\n",
    "]\n",
    "grid = GridSearchCV(rand_forest_reg, param_grid, scoring=\"neg_mean_squared_error\",\n",
    "                    n_jobs=-1, cv=5, return_train_score=True)\n",
    "grid.fit(train_housing_prepared, train_housing_labels)\n",
    "\n",
    "# print(grid.best_estimator_, grid.best_index_, grid.best_params_, grid.best_score_)\n",
    "cv_res = grid_search.cv_results_\n",
    "for mean_score, params in zip(cv_res[\"mean_test_score\"], cv_res[\"params\"]):\n",
    "    print(np.sqrt(-mean_score), params)"
   ]
  },
  {
   "cell_type": "code",
   "execution_count": null,
   "metadata": {},
   "outputs": [],
   "source": [
    "# RandomizedSearchCV: random search\n",
    "param_distributions = {\"bootstrap\":[True, False], \"max_depth\":range(20,40), \"max_features\":range(4,8)}\n",
    "rand_grid = RandomizedSearchCV(rand_forest_reg, param_distributions, n_iter=20,\n",
    "                               scoring=\"neg_mean_squared_error\", n_jobs=-1, cv=5, return_train_score=True)\n",
    "rand_grid.fit(train_housing_prepared, train_housing_labels)\n",
    "# for mean, param in zip(rand_grid.cv_results_[\"params\"], np.sqrt(-grid.cv_results_[\"mean_train_score\"])):\n",
    "#     print(mean, param)"
   ]
  },
  {
   "cell_type": "code",
   "execution_count": null,
   "metadata": {},
   "outputs": [],
   "source": [
    "# sort best feature\n",
    "feature_importances = rand_grid.best_estimator_.feature_importances_\n",
    "extra_attribs = [\"rooms_per_hhold\", \"pop_per_hhold\", \"bedrooms_per_room\"]\n",
    "cat_one_hot_attribs = full_pipeline.transformer_list[1][1].named_steps[\"label\"].encode.classes_.tolist()\n",
    "attributes = num_attrs + extra_attribs + cat_one_hot_attribs\n",
    "sorted(zip(feature_importances, attributes), reverse=True)"
   ]
  },
  {
   "cell_type": "markdown",
   "metadata": {},
   "source": [
    "# Test Check"
   ]
  },
  {
   "cell_type": "code",
   "execution_count": null,
   "metadata": {},
   "outputs": [],
   "source": [
    "# 模型检验\n",
    "final_estimator = rand_grid.best_estimator_\n",
    "X_test = strat_test_set.drop(\"median_house_value\", axis=1)\n",
    "y_test = strat_test_set[\"median_house_value\"].copy()\n",
    "# 在测试集中补缺失值，标准化等用到的值都是训练集上的中值，平均值等，而不是测试集上的。因为必须把数据放缩到同一尺度\n",
    "X_prepared = full_pipeline.transform(X_test)\n",
    "final_prediction = np.sqrt(mean_squared_error(final_estimator.predict(X_prepared), y_test))\n",
    "final_prediction"
   ]
  },
  {
   "cell_type": "markdown",
   "metadata": {},
   "source": [
    "# SAVE AND READ"
   ]
  },
  {
   "cell_type": "code",
   "execution_count": null,
   "metadata": {},
   "outputs": [],
   "source": [
    "# from sklearn.externals import joblib\n",
    "# joblib.dump(anything, file_path) # anything: model, predict...\n",
    "# joblib.load(file_path)"
   ]
  }
 ],
 "metadata": {
  "kernelspec": {
   "display_name": "Python 3",
   "language": "python",
   "name": "python3"
  },
  "language_info": {
   "codemirror_mode": {
    "name": "ipython",
    "version": 3
   },
   "file_extension": ".py",
   "mimetype": "text/x-python",
   "name": "python",
   "nbconvert_exporter": "python",
   "pygments_lexer": "ipython3",
   "version": "3.6.5"
  }
 },
 "nbformat": 4,
 "nbformat_minor": 2
}
