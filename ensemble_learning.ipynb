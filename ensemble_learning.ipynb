{
 "cells": [
  {
   "cell_type": "markdown",
   "metadata": {},
   "source": [
    "# Ensemble Learning"
   ]
  },
  {
   "cell_type": "code",
   "execution_count": null,
   "metadata": {},
   "outputs": [],
   "source": [
    "import numpy as np\n",
    "import matplotlib.pyplot as plt"
   ]
  },
  {
   "cell_type": "code",
   "execution_count": null,
   "metadata": {},
   "outputs": [],
   "source": [
    "# data\n",
    "from sklearn.datasets import make_moons\n",
    "from sklearn.model_selection import train_test_split\n",
    "X, y = make_moons(n_samples=10000, noise=0.5)\n",
    "X_train, X_test, y_train, y_test = train_test_split(X, y, test_size=0.2)"
   ]
  },
  {
   "cell_type": "markdown",
   "metadata": {},
   "source": [
    "# Voting Classifiers"
   ]
  },
  {
   "cell_type": "code",
   "execution_count": null,
   "metadata": {},
   "outputs": [],
   "source": [
    "from sklearn.ensemble import RandomForestClassifier, VotingClassifier\n",
    "from sklearn.svm import SVC\n",
    "from sklearn.linear_model import LogisticRegression\n",
    "from sklearn.metrics import accuracy_score\n",
    "\n",
    "clfs = [LogisticRegression(solver=\"lbfgs\"), RandomForestClassifier(n_estimators=20), SVC(gamma=\"scale\")]\n",
    "# SVC 加 probability=True 拥有 predict_proba 方法\n",
    "clfs.append(VotingClassifier(estimators=[(\"log\", log_clf), (\"rnd\", rnd_clf), (\"svm\", svm_clf)], voting=\"hard\", n_jobs=-1))\n",
    "# voting=\"soft\", 对每个分类器的概率取平均，再预测具有最高类概率的类，这被称为软投票, 调用predict_proba\n",
    "# 得到最多选票的类, 这个多数投票分类器被称为硬投票\n",
    "for clf in clfs:\n",
    "    clf.fit(X_train, y_train)\n",
    "    y_pred = clf.predict(X_test)\n",
    "    print(clf.__class__.__name__, accuracy_score(y_pred, y_test))"
   ]
  },
  {
   "cell_type": "markdown",
   "metadata": {},
   "source": [
    "# Bagging and Pasting"
   ]
  },
  {
   "cell_type": "code",
   "execution_count": null,
   "metadata": {},
   "outputs": [],
   "source": [
    "from sklearn.ensemble import BaggingClassifier\n",
    "from sklearn.tree import DecisionTreeClassifier\n",
    "# bootstrap=True: bagging, bootstrap=False: Pasting\n",
    "bag_clf = BaggingClassifier(base_estimator=DecisionTreeClassifier(),\n",
    "                            n_estimators=500, max_samples=200, n_jobs=-1, bootstrap=True)\n",
    "bag_clf.fit(X_train, y_train)\n",
    "y_pred = bag_clf.predict(X_test)\n",
    "print(bag_clf.__class__.__name__, accuracy_score(y_pred, y_test))"
   ]
  },
  {
   "cell_type": "code",
   "execution_count": null,
   "metadata": {},
   "outputs": [],
   "source": [
    "# Out-of-Bag Evaluation\n",
    "bag_clf = BaggingClassifier(base_estimator=DecisionTreeClassifier(),\n",
    "                            n_estimators=500, max_samples=200, n_jobs=-1, bootstrap=True, oob_score=True)\n",
    "bag_clf.fit(X_train, y_train)\n",
    "print(\"oob_score\", bag_clf.oob_score_)\n",
    "y_pred = bag_clf.predict(X_test)\n",
    "print(\"test\", accuracy_score(y_pred, y_test))\n",
    "# test, oob_score 差不多"
   ]
  },
  {
   "cell_type": "markdown",
   "metadata": {},
   "source": [
    "# Random Patches and Random Subspaces"
   ]
  },
  {
   "cell_type": "code",
   "execution_count": null,
   "metadata": {},
   "outputs": [],
   "source": [
    "# 除了能随机选样本创建多个子分类器以外还能够随机选择特征来创建多个子分类器\n",
    "# 通过参数max_features和bootstrap_features实现。对特征进行采样能够提升模型的多样性，增加偏差，减少方差。\n",
    "# 同时对训练数据和特征进行抽样称为Random Patches，只针对特征抽样而不针对训练数据抽样是Random Subspaces。\n",
    "from sklearn.ensemble import RandomForestClassifier, ExtraTreesClassifier\n",
    "from sklearn.datasets import load_iris\n",
    "iris = load_iris()\n",
    "rnd_clf = RandomForestClassifier(n_estimators=500, max_leaf_nodes=16, max_features=3, n_jobs=-1)\n",
    "rnd_clf.fit(iris[\"data\"], iris[\"target\"])\n",
    "# 特征重要性\n",
    "for name, score in zip(iris[\"feature_names\"], rnd_clf.feature_importances_):\n",
    "    print(name, score)"
   ]
  },
  {
   "cell_type": "code",
   "execution_count": null,
   "metadata": {},
   "outputs": [],
   "source": [
    "from sklearn.datasets import fetch_mldata\n",
    "mnist = fetch_mldata(\"MNIST original\")\n",
    "rnd_clf = RandomForestClassifier(n_estimators=500, n_jobs=-1)\n",
    "rnd_clf.fit(mnist[\"data\"], mnist[\"target\"])\n",
    "# 特征重要性\n",
    "image = rnd_clf.feature_importances_.reshape(28,28)\n",
    "plt.imshow(image, cmap=plt.cm.hot)\n",
    "plt.colorbar()"
   ]
  },
  {
   "cell_type": "markdown",
   "metadata": {},
   "source": [
    "# Boosting"
   ]
  },
  {
   "cell_type": "code",
   "execution_count": null,
   "metadata": {},
   "outputs": [],
   "source": [
    "# AdaBoostClassifier 修改权重\n",
    "from sklearn.ensemble import AdaBoostClassifier\n",
    "from sklearn.tree import DecisionTreeClassifier\n",
    "# AdaBoost是二分类学习器，如果要多分类，则可以设置参数algorithm=”SAMME”,如果需要predict_proba()方法，则设置参数algorithm=”SAMME.R”\n",
    "ada_clf = AdaBoostClassifier(base_estimator=DecisionTreeClassifier(max_depth=2),\n",
    "                            n_estimators=500, algorithm=\"SAMME.R\", learning_rate=0.5)\n",
    "# SVM算法由于训练速度慢且不稳定，所以不适合AdaBoost的基算法\n",
    "# 如果产生过拟合可以减少学习器的数目\n",
    "# AdaBoost的缺点为不能并行，由于每一个学习器依赖上一个学习器"
   ]
  },
  {
   "cell_type": "code",
   "execution_count": null,
   "metadata": {},
   "outputs": [],
   "source": [
    "# Gradient Boosting 拟合参差\n",
    "# data\n",
    "X = np.random.rand(200, 1) - 0.5\n",
    "y = 3 * X ** 2 + 0.05 * np.random.randn(200,1)\n",
    "X_train, X_test, y_train, y_test = train_test_split(X, y, test_size=0.2)\n",
    "fig, ax = plt.subplots(4, 2, figsize=(20, 15))\n",
    "def display(regs, ax, X, y):\n",
    "    ax.scatter(X, y, marker=\"+\")\n",
    "    xx = np.linspace(-0.5, 0.5, 1000)\n",
    "    yy = 0\n",
    "    for reg in regs:\n",
    "        yy += reg.predict(xx.reshape(-1, 1))\n",
    "    ax.plot(xx, yy, \"r--\")\n",
    "    \n",
    "# GradientBoostingRegressor\n",
    "from sklearn.tree import DecisionTreeRegressor\n",
    "regs = []\n",
    "y_temp = y.copy()\n",
    "for i in range(3):\n",
    "    if regs:\n",
    "        y_temp -= regs[-1].predict(X).reshape(-1, 1)\n",
    "    regs.append(DecisionTreeRegressor(max_depth=2))\n",
    "    regs[-1].fit(X, y_temp)\n",
    "    display([regs[-1]], ax[i, 0], X, y_temp)\n",
    "    display(regs, ax[i, 1], X, y)\n",
    "    \n",
    "# GradientBoostingRegressor\n",
    "from sklearn.ensemble import GradientBoostingRegressor\n",
    "regs = []\n",
    "for i in range(2):\n",
    "    regs.append(GradientBoostingRegressor(learning_rate=0.1, n_estimators=(i + 1) * 100, max_depth=2))\n",
    "    regs[-1].fit(X.reshape(-1, 1), y.ravel())\n",
    "    display([regs[-1]], ax[3, i], X, y)"
   ]
  },
  {
   "cell_type": "code",
   "execution_count": null,
   "metadata": {},
   "outputs": [],
   "source": [
    "# 为了找到最优学习器的数量，可以使用early stopping方法。对应可以使用staged_predict()方法，该方法能够返回每增加一个学习器的预测结果。\n",
    "from sklearn.metrics import mean_squared_error\n",
    "gb_reg = GradientBoostingRegressor(max_depth=2, n_estimators=120)\n",
    "gb_reg.fit(X_train, y_train.ravel())\n",
    "errors = [mean_squared_error(y_test, y_pred) for y_pred in gb_reg.staged_predict(X_test)]\n",
    "best_n_estimator = np.argmin(errors)\n",
    "print(best_n_estimator)\n",
    "gb_reg_best = GradientBoostingRegressor(max_depth=2, n_estimators=best_n_estimator)\n",
    "\n",
    "# 设置warm_start = True使模型继续训练，当认为不能再下降时停止，而不是训练完最大数目的学习器再找最小错误的\n",
    "gb_reg = GradientBoostingRegressor(max_depth=2, warm_start=True, learning_rate=0.1)\n",
    "min_val_error = float(\"inf\")\n",
    "error_going_up = 0\n",
    "for i in range(1, 120):\n",
    "    gb_reg.n_estimators = i\n",
    "    gb_reg.fit(X_train, y_train.ravel())\n",
    "    val_error = mean_squared_error(y_test, gb_reg.predict(X_test))\n",
    "    if min_val_error > val_error:\n",
    "        min_val_error = val_error\n",
    "        error_going_up = 0\n",
    "    else:\n",
    "        error_going_up += 1\n",
    "        if error_going_up == 5:\n",
    "            break\n",
    "print(gb_reg.n_estimators)"
   ]
  }
 ],
 "metadata": {
  "kernelspec": {
   "display_name": "Python 3",
   "language": "python",
   "name": "python3"
  },
  "language_info": {
   "codemirror_mode": {
    "name": "ipython",
    "version": 3
   },
   "file_extension": ".py",
   "mimetype": "text/x-python",
   "name": "python",
   "nbconvert_exporter": "python",
   "pygments_lexer": "ipython3",
   "version": "3.6.5"
  }
 },
 "nbformat": 4,
 "nbformat_minor": 2
}
