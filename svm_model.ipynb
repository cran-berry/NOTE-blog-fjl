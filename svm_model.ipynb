{
 "cells": [
  {
   "cell_type": "markdown",
   "metadata": {},
   "source": [
    "# Support Vector Machines (SVM)"
   ]
  },
  {
   "cell_type": "code",
   "execution_count": null,
   "metadata": {},
   "outputs": [],
   "source": [
    "import numpy as np\n",
    "import matplotlib.pyplot as plt"
   ]
  },
  {
   "cell_type": "markdown",
   "metadata": {},
   "source": [
    "# Linear SVM Classification"
   ]
  },
  {
   "cell_type": "code",
   "execution_count": null,
   "metadata": {},
   "outputs": [],
   "source": [
    "# data\n",
    "from sklearn.datasets import make_moons\n",
    "X, y = make_moons(n_samples=200, noise=0.2)\n",
    "left, right, bottom, top = X[:,0].min() - 0.1, X[:,0].max() + 0.1, X[:,1].min() - 0.1, X[:,1].max() + 0.1\n",
    "xx, yy = np.meshgrid(np.linspace(left, right, 1000), np.linspace(bottom, top, 1000))\n",
    "\n",
    "# from sklearn.datasets import load_iris\n",
    "# iris = load_iris()\n",
    "# iris.feature_names, iris.target, iris.data\n",
    "# X = iris.data[:, [2, 3]]\n",
    "# y = (iris.target == 2).astype(np.float64)"
   ]
  },
  {
   "cell_type": "code",
   "execution_count": null,
   "metadata": {},
   "outputs": [],
   "source": [
    "# linear SVM\n",
    "from sklearn.svm import LinearSVC, LinearSVR, SVC\n",
    "from sklearn.preprocessing import StandardScaler\n",
    "from sklearn.pipeline import Pipeline\n",
    "svm_clf = Pipeline([\n",
    "    (\"std\", StandardScaler()),\n",
    "    (\"linear_svc\", LinearSVC(loss='hinge', C=1.0))  # LinearSVC vs SVC(kernel=\"linear\") fast\n",
    "])\n",
    "# 可以通过调剂松弛因子C来权衡，C越大，分类越严格；C越小，在margin内的点越多。\n",
    "# 如果你的SVM模型过拟合了，可以尝试减小C\n",
    "svm_clf.fit(X, y)\n",
    "svm_clf.predict([[5.5, 1.7]])"
   ]
  },
  {
   "cell_type": "markdown",
   "metadata": {},
   "source": [
    "# Nonlinear SVM Classification"
   ]
  },
  {
   "cell_type": "code",
   "execution_count": null,
   "metadata": {},
   "outputs": [],
   "source": [
    "# Polynomial Kernel\n",
    "poly_kernel_svm_clf = Pipeline([\n",
    "    (\"std\", StandardScaler()),\n",
    "    (\"svm_clf\", SVC(C=1, kernel=\"poly\", degree=3, coef0=1))\n",
    "])\n",
    "poly_kernel_svm_clf.fit(X, y)\n",
    "\n",
    "y_predict = poly_kernel_svm_clf.predict(np.c_[xx.ravel(), yy.ravel()])\n",
    "plt.contourf(xx, yy, y_predict.reshape(xx.shape), cmap=\"PuBu\")\n",
    "plt.scatter(X[:,0], X[:,1], c=y, marker=\"+\")\n",
    "plt.axis(\"off\")"
   ]
  },
  {
   "cell_type": "code",
   "execution_count": null,
   "metadata": {},
   "outputs": [],
   "source": [
    "# Gaussian RBF Kernel\n",
    "rbf_kernel_svm_clf = Pipeline([\n",
    "    (\"std\", StandardScaler()),\n",
    "    (\"svm_clf\", SVC(C=0.001, kernel=\"rbf\", gamma=5))\n",
    "])\n",
    "rbf_kernel_svm_clf.fit(X, y)\n",
    "\n",
    "y_predict = rbf_kernel_svm_clf.predict(np.c_[xx.ravel(), yy.ravel()])\n",
    "plt.contourf(xx, yy, y_predict.reshape(xx.shape), cmap=\"PuBu\")\n",
    "plt.scatter(X[:,0], X[:,1], c=y, marker=\"+\")\n",
    "plt.axis(\"off\")"
   ]
  },
  {
   "cell_type": "markdown",
   "metadata": {},
   "source": [
    "# SVM Regression"
   ]
  },
  {
   "cell_type": "code",
   "execution_count": null,
   "metadata": {},
   "outputs": [],
   "source": [
    "# 让点在margin以内通过参数ε控制margin的大小，ε越大，margin越大，否则越小。\n",
    "\n",
    "# linear SVR\n",
    "from sklearn.svm import LinearSVR\n",
    "linear_svr = Pipeline([\n",
    "    (\"std\", StandardScaler()),\n",
    "    (\"linear_svr\", LinearSVR(epsilon=0.5, C=5))\n",
    "])\n",
    "linear_svr.fit(X, y)\n",
    "\n",
    "# nonlinear SVR\n",
    "from sklearn.svm import SVR\n",
    "svr_reg = Pipeline([\n",
    "    (\"std\", StandardScaler()),\n",
    "    (\"svr\", SVR(kernel=\"rbf\", degree=3, epsilon=0.5, C=5))\n",
    "])\n",
    "svr_reg.fit(X, y)"
   ]
  }
 ],
 "metadata": {
  "kernelspec": {
   "display_name": "Python 3",
   "language": "python",
   "name": "python3"
  },
  "language_info": {
   "codemirror_mode": {
    "name": "ipython",
    "version": 3
   },
   "file_extension": ".py",
   "mimetype": "text/x-python",
   "name": "python",
   "nbconvert_exporter": "python",
   "pygments_lexer": "ipython3",
   "version": "3.6.5"
  }
 },
 "nbformat": 4,
 "nbformat_minor": 2
}
