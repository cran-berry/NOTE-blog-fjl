{
 "cells": [
  {
   "cell_type": "markdown",
   "metadata": {},
   "source": [
    "# Decision Trees"
   ]
  },
  {
   "cell_type": "code",
   "execution_count": null,
   "metadata": {},
   "outputs": [],
   "source": [
    "import numpy as np\n",
    "import matplotlib.pyplot as plt"
   ]
  },
  {
   "cell_type": "code",
   "execution_count": null,
   "metadata": {},
   "outputs": [],
   "source": [
    "# data\n",
    "from sklearn.datasets import load_iris\n",
    "iris = load_iris()\n",
    "X = iris[\"data\"]\n",
    "y = iris[\"target\"]\n",
    "# iris[\"target_names\"], iris[\"feature_names\"]"
   ]
  },
  {
   "cell_type": "markdown",
   "metadata": {},
   "source": [
    "# DecisionTreeClassifier"
   ]
  },
  {
   "cell_type": "code",
   "execution_count": null,
   "metadata": {},
   "outputs": [],
   "source": [
    "# DecisionTreeClassifier\n",
    "from sklearn.tree import DecisionTreeClassifier\n",
    "tree_clf = DecisionTreeClassifier(criterion=\"entropy\", max_depth=3)\n",
    "tree_clf.fit(X[:, [2:]], y)\n",
    "tree_clf.predict([[5, 1.5]])\n",
    "tree_clf.predict_proba([[5, 1.5]])\n",
    "# 正则化参数（Regularization Hyperparameters）\n",
    "# 由于决策树算法对训练数据没有什么假设，这就对算法没有任何限制，因此很容易拟合训练数据，从而很容易导致过拟合。"
   ]
  },
  {
   "cell_type": "code",
   "execution_count": null,
   "metadata": {},
   "outputs": [],
   "source": [
    "# Visualization\n",
    "from sklearn.tree import export_graphviz\n",
    "export_graphviz(\n",
    "    tree_clf,\n",
    "    out_file=\"iris_tree.dot\",\n",
    "    feature_names=iris.feature_names[2:],\n",
    "    class_names=iris.target_names,\n",
    "    filled=True,\n",
    "    rounded=True\n",
    ")"
   ]
  },
  {
   "cell_type": "markdown",
   "metadata": {},
   "source": [
    "# DecisionTreeRegressor"
   ]
  },
  {
   "cell_type": "code",
   "execution_count": null,
   "metadata": {},
   "outputs": [],
   "source": [
    "# data\n",
    "X = np.linspace(-1, 1, 100)\n",
    "y = np.square(X) + np.random.normal(loc=0, scale=0.1,size=100)\n",
    "xx = np.linspace(-1, 1, 1000)\n",
    "fig, ax = plt.subplots(1, 3, figsize=(20,6))\n",
    "\n",
    "# DecisionTreeRegressor\n",
    "from sklearn.tree import DecisionTreeRegressor\n",
    "tree_regs = [DecisionTreeRegressor(), DecisionTreeRegressor(max_depth=2), DecisionTreeRegressor(min_samples_leaf=10)]\n",
    "for i, reg in enumerate(tree_regs):\n",
    "    reg.fit(X.reshape((-1, 1)), y)\n",
    "    yy = tree_reg.predict(xx.reshape((-1, 1)))\n",
    "    ax[i].plot(xx, yy, \"r--\")\n",
    "    ax[i].scatter(X, y)\n",
    "\n",
    "# DecisionTreeRegressor 局限性\n",
    "# 正交边界\n",
    "# 训练样本变化，有很大改变，不稳定，=>随机森林"
   ]
  }
 ],
 "metadata": {
  "kernelspec": {
   "display_name": "Python 3",
   "language": "python",
   "name": "python3"
  },
  "language_info": {
   "codemirror_mode": {
    "name": "ipython",
    "version": 3
   },
   "file_extension": ".py",
   "mimetype": "text/x-python",
   "name": "python",
   "nbconvert_exporter": "python",
   "pygments_lexer": "ipython3",
   "version": "3.6.5"
  }
 },
 "nbformat": 4,
 "nbformat_minor": 2
}
